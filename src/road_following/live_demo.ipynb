{
 "cells": [
  {
   "cell_type": "markdown",
   "metadata": {},
   "source": [
    "# Road Following - Live demo"
   ]
  },
  {
   "cell_type": "markdown",
   "metadata": {},
   "source": [
    "In this notebook, we will use model we trained to move jetBot smoothly on track. "
   ]
  },
  {
   "cell_type": "markdown",
   "metadata": {},
   "source": [
    "### Load Trained Model"
   ]
  },
  {
   "cell_type": "markdown",
   "metadata": {},
   "source": [
    "We will assume that you have already downloaded ``best_steering_model_xy.pth`` to work station as instructed in \"train_model.ipynb\" notebook. Now, you should upload model file to JetBot in to this notebooks's directory. Once that's finished there should be a file named ``best_steering_model_xy.pth`` in this notebook's directory."
   ]
  },
  {
   "cell_type": "markdown",
   "metadata": {},
   "source": [
    "> Please make sure the file has uploaded fully before calling the next cell"
   ]
  },
  {
   "cell_type": "markdown",
   "metadata": {},
   "source": [
    "Execute the code below to initialize the PyTorch model. This should look very familiar from the training notebook."
   ]
  },
  {
   "cell_type": "code",
   "execution_count": 1,
   "metadata": {},
   "outputs": [],
   "source": [
    "import torchvision\n",
    "import torch\n",
    "\n",
    "model = torchvision.models.resnet18(pretrained=False)\n",
    "model.fc = torch.nn.Linear(512, 2)"
   ]
  },
  {
   "cell_type": "markdown",
   "metadata": {},
   "source": [
    "Next, load the trained weights from the ``best_steering_model_xy.pth`` file that you uploaded."
   ]
  },
  {
   "cell_type": "code",
   "execution_count": 2,
   "metadata": {},
   "outputs": [
    {
     "data": {
      "text/plain": [
       "<All keys matched successfully>"
      ]
     },
     "execution_count": 2,
     "metadata": {},
     "output_type": "execute_result"
    }
   ],
   "source": [
    "model.load_state_dict(torch.load('best_steering_model_xy.pth'))"
   ]
  },
  {
   "cell_type": "markdown",
   "metadata": {},
   "source": [
    "Currently, the model weights are located on the CPU memory execute the code below to transfer to the GPU device."
   ]
  },
  {
   "cell_type": "code",
   "execution_count": 3,
   "metadata": {},
   "outputs": [],
   "source": [
    "device = torch.device('cuda')\n",
    "model = model.to(device)\n",
    "model = model.eval().half()"
   ]
  },
  {
   "cell_type": "markdown",
   "metadata": {},
   "source": [
    "### Creating the Pre-Processing Function"
   ]
  },
  {
   "cell_type": "markdown",
   "metadata": {},
   "source": [
    "We have now loaded our model, but there's a slight issue. The format that we trained our model doesnt exactly match the format of the camera. To do that, we need to do some preprocessing. This involves the following steps:\n",
    "\n",
    "1. Convert from HWC layout to CHW layout\n",
    "2. Normalize using same parameters as we did during training (our camera provides values in [0, 255] range and training loaded images in [0, 1] range so we need to scale by 255.0\n",
    "3. Transfer the data from CPU memory to GPU memory\n",
    "4. Add a batch dimension"
   ]
  },
  {
   "cell_type": "code",
   "execution_count": 4,
   "metadata": {},
   "outputs": [],
   "source": [
    "import torchvision.transforms as transforms\n",
    "import torch.nn.functional as F\n",
    "import cv2\n",
    "import PIL.Image\n",
    "import numpy as np\n",
    "\n",
    "mean = torch.Tensor([0.485, 0.456, 0.406]).cuda().half()\n",
    "std = torch.Tensor([0.229, 0.224, 0.225]).cuda().half()\n",
    "\n",
    "def preprocess(image):\n",
    "    image = PIL.Image.fromarray(image)\n",
    "    image = transforms.functional.to_tensor(image).to(device).half()\n",
    "    image.sub_(mean[:, None, None]).div_(std[:, None, None])\n",
    "    return image[None, ...]"
   ]
  },
  {
   "cell_type": "markdown",
   "metadata": {},
   "source": [
    "Awesome! We've now defined our pre-processing function which can convert images from the camera format to the neural network input format.\n",
    "\n",
    "Now, let's start and display our camera. You should be pretty familiar with this by now. "
   ]
  },
  {
   "cell_type": "code",
   "execution_count": 5,
   "metadata": {},
   "outputs": [
    {
     "data": {
      "application/vnd.jupyter.widget-view+json": {
       "model_id": "176f743ec3834292b53625ed5d70f8ac",
       "version_major": 2,
       "version_minor": 0
      },
      "text/plain": [
       "Image(value=b'\\xff\\xd8\\xff\\xe0\\x00\\x10JFIF\\x00\\x01\\x01\\x00\\x00\\x01\\x00\\x01\\x00\\x00\\xff\\xdb\\x00C\\x00\\x02\\x01\\x0…"
      ]
     },
     "metadata": {},
     "output_type": "display_data"
    }
   ],
   "source": [
    "from IPython.display import display\n",
    "import ipywidgets\n",
    "import traitlets\n",
    "from jetbot import Camera, bgr8_to_jpeg\n",
    "\n",
    "camera = Camera()\n",
    "\n",
    "image_widget = ipywidgets.Image()\n",
    "\n",
    "traitlets.dlink((camera, 'value'), (image_widget, 'value'), transform=bgr8_to_jpeg)\n",
    "\n",
    "display(image_widget)"
   ]
  },
  {
   "cell_type": "markdown",
   "metadata": {},
   "source": [
    "We'll also create our robot instance which we'll need to drive the motors."
   ]
  },
  {
   "cell_type": "code",
   "execution_count": 6,
   "metadata": {},
   "outputs": [],
   "source": [
    "from jetbot import Robot\n",
    "\n",
    "robot = Robot()"
   ]
  },
  {
   "cell_type": "markdown",
   "metadata": {},
   "source": [
    "Now, we will define sliders to control JetBot\n",
    "> Note: We have initialize the slider values for best known configurations, however these might not work for your dataset, therefore please increase or decrease the sliders according to your setup and environment\n",
    "\n",
    "1. Speed Control (speed_gain_slider): To start your JetBot increase ``speed_gain_slider`` \n",
    "2. Steering Gain Control (steering_gain_sloder): If you see JetBot is woblling, you need to reduce ``steering_gain_slider`` till it is smooth\n",
    "3. Steering Bias control (steering_bias_slider): If you see JetBot is biased towards extreme right or extreme left side of the track, you should control this slider till JetBot start following line or track in the center.  This accounts for motor biases as well as camera offsets\n",
    "\n",
    "> Note: You should play around above mentioned sliders with lower speed to get smooth JetBot road following behavior."
   ]
  },
  {
   "cell_type": "code",
   "execution_count": 7,
   "metadata": {},
   "outputs": [
    {
     "data": {
      "application/vnd.jupyter.widget-view+json": {
       "model_id": "de1b4c9454294a1eb87e24f33d03b88c",
       "version_major": 2,
       "version_minor": 0
      },
      "text/plain": [
       "FloatSlider(value=0.0, description='speed gain', max=1.0, step=0.01)"
      ]
     },
     "metadata": {},
     "output_type": "display_data"
    },
    {
     "data": {
      "application/vnd.jupyter.widget-view+json": {
       "model_id": "5da4c8d7e5df470f91901b169c855ecd",
       "version_major": 2,
       "version_minor": 0
      },
      "text/plain": [
       "FloatSlider(value=0.2, description='steering gain', max=1.0, step=0.01)"
      ]
     },
     "metadata": {},
     "output_type": "display_data"
    },
    {
     "data": {
      "application/vnd.jupyter.widget-view+json": {
       "model_id": "f52897a9a8c841f785d98eb777add797",
       "version_major": 2,
       "version_minor": 0
      },
      "text/plain": [
       "FloatSlider(value=0.0, description='steering kd', max=0.5, step=0.001)"
      ]
     },
     "metadata": {},
     "output_type": "display_data"
    },
    {
     "data": {
      "application/vnd.jupyter.widget-view+json": {
       "model_id": "cb019c58d1a1443db4a426b8122f6d6d",
       "version_major": 2,
       "version_minor": 0
      },
      "text/plain": [
       "FloatSlider(value=0.0, description='steering bias', max=0.3, min=-0.3, step=0.01)"
      ]
     },
     "metadata": {},
     "output_type": "display_data"
    }
   ],
   "source": [
    "speed_gain_slider = ipywidgets.FloatSlider(min=0.0, max=1.0, step=0.01, description='speed gain')\n",
    "steering_gain_slider = ipywidgets.FloatSlider(min=0.0, max=1.0, step=0.01, value=0.2, description='steering gain')\n",
    "steering_dgain_slider = ipywidgets.FloatSlider(min=0.0, max=0.5, step=0.001, value=0.0, description='steering kd')\n",
    "steering_bias_slider = ipywidgets.FloatSlider(min=-0.3, max=0.3, step=0.01, value=0.0, description='steering bias')\n",
    "\n",
    "display(speed_gain_slider, steering_gain_slider, steering_dgain_slider, steering_bias_slider)"
   ]
  },
  {
   "cell_type": "markdown",
   "metadata": {},
   "source": [
    "Next, let's display some sliders that will let us see what JetBot is thinking.  The x and y sliders will display the predicted x, y values.\n",
    "\n",
    "The steering slider will display our estimated steering value.  Please remember, this value isn't the actual angle of the target, but simply a value that is\n",
    "nearly proportional.  When the actual angle is ``0``, this will be zero, and it will increase / decrease with the actual angle.  "
   ]
  },
  {
   "cell_type": "code",
   "execution_count": 8,
   "metadata": {},
   "outputs": [
    {
     "data": {
      "application/vnd.jupyter.widget-view+json": {
       "model_id": "cc2b8022c0e9428a87cae081707b20c7",
       "version_major": 2,
       "version_minor": 0
      },
      "text/plain": [
       "HBox(children=(FloatSlider(value=0.0, description='y', max=1.0, orientation='vertical'), FloatSlider(value=0.0…"
      ]
     },
     "metadata": {},
     "output_type": "display_data"
    },
    {
     "data": {
      "application/vnd.jupyter.widget-view+json": {
       "model_id": "d3f62702367341d49aa1fffe89f02e55",
       "version_major": 2,
       "version_minor": 0
      },
      "text/plain": [
       "FloatSlider(value=0.0, description='x', max=1.0, min=-1.0)"
      ]
     },
     "metadata": {},
     "output_type": "display_data"
    },
    {
     "data": {
      "application/vnd.jupyter.widget-view+json": {
       "model_id": "f731a2fbf3044b7c9552bd9c7468e4e4",
       "version_major": 2,
       "version_minor": 0
      },
      "text/plain": [
       "FloatSlider(value=0.0, description='steering', max=1.0, min=-1.0)"
      ]
     },
     "metadata": {},
     "output_type": "display_data"
    }
   ],
   "source": [
    "x_slider = ipywidgets.FloatSlider(min=-1.0, max=1.0, description='x')\n",
    "y_slider = ipywidgets.FloatSlider(min=0, max=1.0, orientation='vertical', description='y')\n",
    "steering_slider = ipywidgets.FloatSlider(min=-1.0, max=1.0, description='steering')\n",
    "speed_slider = ipywidgets.FloatSlider(min=0, max=1.0, orientation='vertical', description='speed')\n",
    "\n",
    "display(ipywidgets.HBox([y_slider, speed_slider]))\n",
    "display(x_slider, steering_slider)"
   ]
  },
  {
   "cell_type": "markdown",
   "metadata": {},
   "source": [
    "Next, we'll create a function that will get called whenever the camera's value changes. This function will do the following steps\n",
    "\n",
    "1. Pre-process the camera image\n",
    "2. Execute the neural network\n",
    "3. Compute the approximate steering value\n",
    "4. Control the motors using proportional / derivative control (PD)"
   ]
  },
  {
   "cell_type": "code",
   "execution_count": 9,
   "metadata": {},
   "outputs": [
    {
     "name": "stdout",
     "output_type": "stream",
     "text": [
      "1.2451172 1.2255859\n"
     ]
    }
   ],
   "source": [
    "angle = 0.0\n",
    "angle_last = 0.0\n",
    "\n",
    "def execute(change):\n",
    "    global angle, angle_last\n",
    "    image = change['new']\n",
    "    xy = model(preprocess(image)).detach().float().cpu().numpy().flatten()\n",
    "    x = xy[0]\n",
    "    print(xy[0], xy[1])\n",
    "    y = (0.5 - xy[1]) / 2.0\n",
    "    \n",
    "    x_slider.value = x\n",
    "    y_slider.value = y\n",
    "    \n",
    "    speed_slider.value = speed_gain_slider.value\n",
    "    \n",
    "    angle = np.arctan2(x, y)\n",
    "    pid = angle * steering_gain_slider.value + (angle - angle_last) * steering_dgain_slider.value\n",
    "    angle_last = angle\n",
    "    \n",
    "    steering_slider.value = pid + steering_bias_slider.value\n",
    "    \n",
    "    robot.left_motor.value = max(min(speed_slider.value + steering_slider.value, 1.0), 0.0)\n",
    "    robot.right_motor.value = max(min(speed_slider.value - steering_slider.value, 1.0), 0.0)\n",
    "    \n",
    "execute({'new': camera.value})"
   ]
  },
  {
   "cell_type": "markdown",
   "metadata": {},
   "source": [
    "Cool! We've created our neural network execution function, but now we need to attach it to the camera for processing.\n",
    "\n",
    "We accomplish that with the observe function."
   ]
  },
  {
   "cell_type": "markdown",
   "metadata": {},
   "source": [
    ">WARNING: This code will move the robot!! Please make sure your robot has clearance and it is on Lego or Track you have collected data on. The road follower should work, but the neural network is only as good as the data it's trained on!"
   ]
  },
  {
   "cell_type": "code",
   "execution_count": 10,
   "metadata": {},
   "outputs": [
    {
     "name": "stdout",
     "output_type": "stream",
     "text": [
      "1.5673828 1.5566406\n",
      "1.5673828 1.5371094\n",
      "1.5761719 1.5390625\n",
      "1.5742188 1.5146484\n",
      "1.5712891 1.5429688\n",
      "1.5898438 1.5361328\n",
      "1.5771484 1.5458984\n",
      "1.5664062 1.5507812\n",
      "1.5537109 1.5537109\n",
      "1.5908203 1.5351562\n",
      "1.5820312 1.5566406\n",
      "1.5917969 1.5371094\n",
      "1.5966797 1.5507812\n",
      "1.5898438 1.5537109\n",
      "1.5898438 1.5498047\n",
      "1.6103516 1.578125\n",
      "1.59375 1.5488281\n",
      "1.6015625 1.5449219\n",
      "1.6015625 1.5595703\n",
      "1.5869141 1.5458984\n",
      "1.5820312 1.5498047\n",
      "1.6142578 1.5634766\n",
      "1.5810547 1.5615234\n",
      "1.5878906 1.5849609\n",
      "1.5849609 1.5644531\n",
      "1.5849609 1.578125\n",
      "1.5869141 1.5566406\n",
      "1.6005859 1.5615234\n",
      "1.5878906 1.5830078\n",
      "1.6123047 1.5458984\n",
      "1.5830078 1.5566406\n",
      "1.5908203 1.5478516\n",
      "1.5976562 1.5859375\n",
      "1.5849609 1.5625\n",
      "1.5888672 1.5800781\n",
      "1.6054688 1.5751953\n",
      "1.5917969 1.5751953\n",
      "1.6015625 1.5566406\n",
      "1.5986328 1.5625\n",
      "1.5966797 1.5625\n",
      "1.5888672 1.5498047\n",
      "1.6240234 1.5771484\n",
      "1.6152344 1.5537109\n",
      "1.6005859 1.5751953\n",
      "1.6035156 1.5625\n",
      "1.6074219 1.5644531\n",
      "1.6044922 1.5615234\n",
      "1.6025391 1.5576172\n",
      "1.6035156 1.5478516\n",
      "1.5869141 1.5820312\n",
      "1.59375 1.5605469\n",
      "1.5986328 1.5351562\n",
      "1.5820312 1.5742188\n",
      "1.5839844 1.5429688\n",
      "1.5810547 1.5478516\n",
      "1.6044922 1.5341797\n",
      "1.5859375 1.5615234\n",
      "1.5927734 1.5722656\n",
      "1.5703125 1.5380859\n",
      "1.6064453 1.5419922\n",
      "1.5800781 1.5742188\n",
      "1.6015625 1.5517578\n",
      "1.5966797 1.5576172\n",
      "1.5986328 1.5625\n",
      "1.5888672 1.5722656\n",
      "1.5917969 1.578125\n",
      "1.5976562 1.5449219\n",
      "1.5839844 1.5605469\n",
      "1.6113281 1.5654297\n",
      "1.6035156 1.5625\n",
      "1.5791016 1.5527344\n",
      "1.5957031 1.5605469\n",
      "1.5751953 1.5703125\n",
      "1.6044922 1.5722656\n",
      "1.5976562 1.5546875\n",
      "1.6025391 1.5556641\n",
      "1.578125 1.5644531\n",
      "1.6005859 1.5683594\n",
      "1.5917969 1.546875\n",
      "1.5996094 1.5527344\n",
      "1.5849609 1.5458984\n",
      "1.5771484 1.5498047\n",
      "1.5927734 1.5566406\n",
      "1.5966797 1.5595703\n",
      "1.6132812 1.5556641\n",
      "1.5996094 1.578125\n",
      "1.5927734 1.5693359\n",
      "1.6123047 1.5654297\n",
      "1.6054688 1.5751953\n",
      "1.5888672 1.5664062\n",
      "1.6064453 1.5664062\n",
      "1.5830078 1.5595703\n",
      "1.5947266 1.5654297\n",
      "1.5986328 1.5683594\n",
      "1.6025391 1.5683594\n",
      "1.6015625 1.5830078\n",
      "1.609375 1.5742188\n",
      "1.5878906 1.5683594\n",
      "1.6162109 1.5625\n",
      "1.5908203 1.5458984\n",
      "1.6132812 1.5693359\n",
      "1.5751953 1.5341797\n",
      "1.6103516 1.5507812\n",
      "1.5957031 1.5498047\n",
      "1.5996094 1.5693359\n",
      "1.5732422 1.5664062\n",
      "1.5986328 1.5683594\n",
      "1.5898438 1.5625\n",
      "1.5859375 1.5585938\n",
      "1.6025391 1.5673828\n",
      "1.5908203 1.5742188\n",
      "1.5966797 1.5898438\n",
      "1.6191406 1.5390625\n",
      "1.6162109 1.5595703\n",
      "1.5888672 1.5605469\n",
      "1.5976562 1.5693359\n",
      "1.5849609 1.5429688\n",
      "1.5703125 1.5625\n",
      "1.5888672 1.5673828\n",
      "1.6054688 1.5517578\n",
      "1.5947266 1.5244141\n",
      "1.5839844 1.5566406\n",
      "1.5917969 1.5703125\n",
      "1.6025391 1.5566406\n",
      "1.5722656 1.5673828\n",
      "1.6074219 1.5761719\n",
      "1.5849609 1.5693359\n",
      "1.5917969 1.5615234\n",
      "1.59375 1.5566406\n",
      "1.5986328 1.5722656\n",
      "1.5947266 1.5478516\n",
      "1.5927734 1.5576172\n",
      "1.5976562 1.5664062\n",
      "1.5908203 1.546875\n",
      "1.6132812 1.5439453\n",
      "1.6035156 1.5546875\n",
      "1.5839844 1.5644531\n",
      "1.6044922 1.5576172\n",
      "1.6054688 1.5439453\n",
      "1.6083984 1.5673828\n",
      "1.5986328 1.5654297\n",
      "1.5849609 1.5644531\n",
      "1.5800781 1.5693359\n",
      "1.5859375 1.5478516\n",
      "1.5849609 1.5410156\n",
      "1.5898438 1.5576172\n",
      "1.609375 1.5332031\n",
      "1.5771484 1.546875\n",
      "1.5761719 1.5673828\n",
      "1.5771484 1.5507812\n",
      "1.6064453 1.5576172\n",
      "1.5917969 1.5634766\n",
      "1.6064453 1.5498047\n",
      "1.5927734 1.5722656\n",
      "1.5839844 1.5810547\n",
      "1.6015625 1.5517578\n",
      "1.6044922 1.5644531\n",
      "1.6162109 1.5664062\n",
      "1.5898438 1.5498047\n",
      "1.5898438 1.5664062\n",
      "1.5976562 1.5986328\n",
      "1.5654297 1.5498047\n",
      "1.6171875 1.5712891\n",
      "1.5947266 1.5585938\n",
      "1.6064453 1.5566406\n",
      "1.5869141 1.5605469\n",
      "1.59375 1.5576172\n",
      "1.5859375 1.5419922\n",
      "1.5898438 1.5869141\n",
      "1.6025391 1.578125\n",
      "1.5791016 1.5800781\n",
      "1.5908203 1.5712891\n",
      "1.5917969 1.5625\n",
      "1.6201172 1.546875\n",
      "1.6035156 1.5820312\n",
      "1.6054688 1.5712891\n",
      "1.5917969 1.5830078\n",
      "1.5927734 1.5644531\n",
      "1.5947266 1.5722656\n",
      "1.5820312 1.5625\n",
      "1.6015625 1.5703125\n",
      "1.5927734 1.5742188\n",
      "1.5693359 1.5654297\n",
      "1.5917969 1.5644531\n",
      "1.59375 1.5742188\n",
      "1.5830078 1.5576172\n",
      "1.5927734 1.5419922\n",
      "1.5888672 1.5654297\n",
      "1.5986328 1.5664062\n",
      "1.6083984 1.5654297\n",
      "1.5839844 1.5556641\n",
      "1.5908203 1.5527344\n",
      "1.5839844 1.5478516\n",
      "1.5810547 1.5517578\n",
      "1.5712891 1.5371094\n",
      "1.6025391 1.5546875\n",
      "1.5830078 1.5693359\n",
      "1.5839844 1.5585938\n",
      "1.5976562 1.5761719\n",
      "1.6113281 1.5722656\n",
      "1.5917969 1.5625\n",
      "1.5917969 1.5585938\n",
      "1.5878906 1.5527344\n",
      "1.5830078 1.5898438\n",
      "1.5878906 1.5722656\n",
      "1.5859375 1.5498047\n",
      "1.5810547 1.5664062\n",
      "1.6025391 1.5585938\n",
      "1.5820312 1.5683594\n",
      "1.5771484 1.5585938\n",
      "1.5820312 1.5566406\n",
      "1.5908203 1.5673828\n",
      "1.5878906 1.5849609\n",
      "1.59375 1.5527344\n",
      "1.5947266 1.5693359\n",
      "1.6123047 1.5966797\n",
      "1.5898438 1.5595703\n",
      "1.5751953 1.5585938\n",
      "1.6025391 1.5693359\n",
      "1.5898438 1.5439453\n",
      "1.5888672 1.5449219\n",
      "1.5888672 1.5664062\n",
      "1.5888672 1.5615234\n",
      "1.6035156 1.5576172\n",
      "1.5966797 1.5605469\n",
      "1.6005859 1.5654297\n",
      "1.5869141 1.5527344\n",
      "1.5869141 1.5703125\n",
      "1.5830078 1.5488281\n",
      "1.5888672 1.5771484\n",
      "1.5927734 1.5810547\n",
      "1.5830078 1.5585938\n",
      "1.5986328 1.5732422\n",
      "1.5878906 1.5654297\n",
      "1.6015625 1.5585938\n",
      "1.5595703 1.5810547\n",
      "1.5859375 1.5615234\n",
      "1.5830078 1.5507812\n",
      "1.5927734 1.578125\n",
      "1.6152344 1.5634766\n",
      "1.5996094 1.5693359\n",
      "1.5917969 1.5693359\n",
      "1.5957031 1.5595703\n",
      "1.5869141 1.5517578\n",
      "1.5820312 1.5576172\n",
      "1.5966797 1.5644531\n",
      "1.5927734 1.5712891\n",
      "1.5927734 1.5488281\n",
      "1.5966797 1.5791016\n",
      "1.6054688 1.5410156\n",
      "1.5849609 1.5332031\n",
      "1.6162109 1.546875\n",
      "1.5917969 1.5673828\n",
      "1.5996094 1.5585938\n",
      "1.5996094 1.5576172\n",
      "1.6083984 1.5644531\n",
      "1.5791016 1.5634766\n",
      "1.5947266 1.5634766\n",
      "1.5908203 1.5791016\n",
      "1.6083984 1.5654297\n",
      "1.5947266 1.5683594\n",
      "1.5683594 1.5488281\n",
      "1.609375 1.5830078\n",
      "1.6044922 1.5634766\n",
      "1.59375 1.5537109\n",
      "1.59375 1.5517578\n",
      "1.5751953 1.5839844\n",
      "1.5595703 1.5800781\n",
      "1.5712891 1.5849609\n",
      "1.5771484 1.5830078\n",
      "1.5898438 1.5751953\n",
      "1.5849609 1.5673828\n",
      "1.5820312 1.5585938\n",
      "1.5771484 1.5791016\n",
      "1.5810547 1.5751953\n",
      "1.6025391 1.5595703\n",
      "1.6005859 1.5517578\n",
      "1.5732422 1.5810547\n",
      "1.5898438 1.5673828\n",
      "1.5957031 1.5839844\n",
      "1.5810547 1.5595703\n",
      "1.5898438 1.5273438\n",
      "1.578125 1.5449219\n",
      "1.5957031 1.5576172\n",
      "1.609375 1.5585938\n",
      "1.6005859 1.5771484\n",
      "1.5732422 1.5703125\n",
      "1.5986328 1.5595703\n",
      "1.5810547 1.5634766\n",
      "1.5820312 1.5605469\n",
      "1.5849609 1.5537109\n",
      "1.5751953 1.5654297\n",
      "1.5849609 1.5771484\n",
      "1.5859375 1.5742188\n",
      "1.5839844 1.5732422\n",
      "1.5888672 1.5654297\n",
      "1.5771484 1.5517578\n",
      "1.578125 1.5625\n",
      "1.5830078 1.5351562\n",
      "1.6152344 1.5449219\n",
      "1.5869141 1.5458984\n",
      "1.5869141 1.5488281\n",
      "1.5859375 1.5517578\n",
      "1.5996094 1.5830078\n",
      "1.5888672 1.5527344\n",
      "1.6044922 1.5664062\n",
      "1.5947266 1.5585938\n",
      "1.6054688 1.5517578\n",
      "1.5917969 1.5537109\n",
      "1.5947266 1.5507812\n",
      "1.5859375 1.5742188\n",
      "1.5878906 1.5761719\n",
      "1.5957031 1.5332031\n",
      "1.59375 1.5615234\n",
      "1.578125 1.5732422\n",
      "1.5908203 1.5576172\n",
      "1.609375 1.5634766\n",
      "1.5957031 1.5517578\n",
      "1.5546875 1.5585938\n",
      "1.5927734 1.5605469\n",
      "1.5810547 1.5644531\n",
      "1.5625 1.5859375\n",
      "1.5966797 1.5556641\n",
      "1.5888672 1.5556641\n",
      "1.5800781 1.5615234\n",
      "1.5888672 1.5537109\n",
      "1.5927734 1.5595703\n",
      "1.5830078 1.5673828\n",
      "1.59375 1.5576172\n",
      "1.5800781 1.5634766\n",
      "1.5761719 1.5634766\n",
      "1.5742188 1.5566406\n",
      "1.5693359 1.5742188\n",
      "1.5898438 1.5576172\n",
      "1.6132812 1.5576172\n",
      "1.5996094 1.5458984\n",
      "1.5966797 1.5507812\n",
      "1.5820312 1.5576172\n",
      "1.5878906 1.5429688\n",
      "1.5927734 1.5527344\n",
      "1.5830078 1.5380859\n",
      "1.5712891 1.5488281\n",
      "1.5742188 1.5556641\n",
      "1.5820312 1.546875\n",
      "1.5888672 1.5693359\n",
      "1.5878906 1.5410156\n",
      "1.6044922 1.5693359\n",
      "1.5878906 1.5517578\n",
      "1.5888672 1.5615234\n",
      "1.6005859 1.5625\n",
      "1.5859375 1.5576172\n",
      "1.5810547 1.5546875\n",
      "1.5742188 1.5478516\n",
      "1.6044922 1.5517578\n",
      "1.5947266 1.5615234\n",
      "1.5644531 1.5527344\n",
      "1.5878906 1.5390625\n",
      "1.5869141 1.5517578\n",
      "1.5771484 1.5595703\n",
      "1.5966797 1.5449219\n",
      "1.5761719 1.5507812\n",
      "1.5966797 1.5683594\n",
      "1.5957031 1.5595703\n",
      "1.5917969 1.5585938\n",
      "1.5820312 1.5585938\n",
      "1.5810547 1.5673828\n",
      "1.5917969 1.5488281\n",
      "1.5927734 1.5478516\n",
      "1.5722656 1.5566406\n",
      "1.59375 1.546875\n",
      "1.5888672 1.5517578\n",
      "1.6123047 1.5712891\n",
      "1.5996094 1.5615234\n",
      "1.5966797 1.5634766\n",
      "1.6064453 1.5712891\n",
      "1.5800781 1.5400391\n",
      "1.59375 1.5585938\n",
      "1.5810547 1.5634766\n",
      "1.5898438 1.53125\n",
      "1.5820312 1.5566406\n",
      "1.5800781 1.5400391\n",
      "1.5771484 1.5556641\n",
      "1.5908203 1.5605469\n",
      "1.578125 1.5507812\n",
      "1.5820312 1.5537109\n",
      "1.5898438 1.5566406\n",
      "1.5888672 1.5654297\n",
      "1.5830078 1.5556641\n",
      "1.5898438 1.5771484\n",
      "1.5683594 1.5488281\n",
      "1.6123047 1.5527344\n",
      "1.5800781 1.5712891\n",
      "1.5908203 1.5576172\n",
      "1.5957031 1.5351562\n",
      "1.578125 1.5527344\n",
      "1.5878906 1.5410156\n",
      "1.5878906 1.5507812\n",
      "1.5986328 1.5400391\n",
      "1.6025391 1.5849609\n",
      "1.5751953 1.5615234\n",
      "1.5771484 1.546875\n",
      "1.5947266 1.5585938\n",
      "1.5791016 1.5371094\n",
      "1.5966797 1.53125\n",
      "1.5957031 1.5292969\n",
      "1.5917969 1.5322266\n",
      "1.5878906 1.5478516\n",
      "1.5878906 1.5410156\n",
      "1.5683594 1.5625\n",
      "1.5908203 1.5458984\n",
      "1.5986328 1.5605469\n",
      "1.5966797 1.5458984\n",
      "1.5888672 1.5449219\n",
      "1.5957031 1.5615234\n",
      "1.5791016 1.5654297\n",
      "1.6005859 1.5488281\n",
      "1.6074219 1.5546875\n",
      "1.59375 1.5546875\n",
      "1.59375 1.5371094\n",
      "1.5957031 1.5517578\n",
      "1.5927734 1.5507812\n",
      "1.5732422 1.5556641\n",
      "1.5800781 1.5537109\n",
      "1.5859375 1.5410156\n",
      "1.5771484 1.5595703\n",
      "1.5908203 1.5615234\n",
      "1.5898438 1.5566406\n",
      "1.5761719 1.5556641\n",
      "1.5927734 1.5361328\n",
      "1.5859375 1.5576172\n",
      "1.5927734 1.5429688\n",
      "1.5800781 1.5537109\n",
      "1.5810547 1.5507812\n",
      "1.6152344 1.5380859\n",
      "1.59375 1.5585938\n",
      "1.5732422 1.5673828\n",
      "1.5800781 1.5595703\n",
      "1.5644531 1.5625\n",
      "1.5869141 1.5498047\n",
      "1.5810547 1.5605469\n",
      "1.5820312 1.5498047\n",
      "1.5849609 1.5429688\n",
      "1.5751953 1.5625\n",
      "1.5722656 1.5400391\n",
      "1.5908203 1.5507812\n",
      "1.5761719 1.5361328\n",
      "1.6005859 1.5595703\n",
      "1.5859375 1.5380859\n",
      "1.5810547 1.5507812\n",
      "1.5996094 1.5410156\n",
      "1.59375 1.5419922\n",
      "1.5859375 1.5634766\n",
      "1.5751953 1.5605469\n",
      "1.5996094 1.5605469\n",
      "1.5830078 1.5722656\n",
      "1.578125 1.5625\n",
      "1.5722656 1.5625\n",
      "1.5664062 1.5273438\n",
      "1.5888672 1.5742188\n",
      "1.5527344 1.5380859\n",
      "1.5703125 1.546875\n",
      "1.5527344 1.5498047\n",
      "1.5722656 1.5341797\n",
      "1.5830078 1.5527344\n",
      "1.5761719 1.5537109\n",
      "1.5664062 1.5322266\n",
      "1.5820312 1.5556641\n",
      "1.5673828 1.5488281\n",
      "1.5957031 1.5585938\n",
      "1.5664062 1.5712891\n",
      "1.5820312 1.5361328\n",
      "1.5791016 1.5507812\n",
      "1.5703125 1.5615234\n",
      "1.578125 1.546875\n",
      "1.5703125 1.5341797\n",
      "1.5810547 1.5537109\n",
      "1.5771484 1.5537109\n",
      "1.5615234 1.5234375\n",
      "1.5839844 1.5546875\n",
      "1.5791016 1.578125\n",
      "1.5683594 1.5517578\n",
      "1.5898438 1.5566406\n",
      "1.5742188 1.5449219\n",
      "1.6083984 1.5429688\n",
      "1.5927734 1.5722656\n",
      "1.5947266 1.5527344\n",
      "1.6005859 1.5458984\n",
      "1.5986328 1.5537109\n",
      "1.5986328 1.5820312\n",
      "1.5673828 1.546875\n",
      "1.5722656 1.5634766\n",
      "1.5927734 1.5605469\n",
      "1.5830078 1.5683594\n",
      "1.5830078 1.5712891\n",
      "1.5898438 1.5654297\n",
      "1.5859375 1.5595703\n",
      "1.5957031 1.5439453\n",
      "1.5800781 1.5458984\n",
      "1.5771484 1.5722656\n",
      "1.5966797 1.5605469\n",
      "1.5908203 1.5761719\n",
      "1.5673828 1.5322266\n",
      "1.5664062 1.5517578\n",
      "1.5849609 1.5712891\n",
      "1.5830078 1.5566406\n",
      "1.5830078 1.5566406\n",
      "1.5791016 1.546875\n",
      "1.5849609 1.5615234\n",
      "1.5820312 1.5605469\n",
      "1.5761719 1.5634766\n",
      "1.5839844 1.5556641\n",
      "1.5976562 1.5527344\n",
      "1.5722656 1.5625\n",
      "1.5917969 1.5517578\n",
      "1.5712891 1.5585938\n",
      "1.5791016 1.5585938\n",
      "1.5751953 1.5527344\n",
      "1.5742188 1.5673828\n",
      "1.6064453 1.5615234\n",
      "1.6064453 1.5644531\n",
      "1.5830078 1.5507812\n",
      "1.5761719 1.5527344\n",
      "1.5888672 1.5517578\n",
      "1.5917969 1.5625\n",
      "1.5820312 1.5615234\n",
      "1.5859375 1.5390625\n",
      "1.6064453 1.5664062\n",
      "1.5839844 1.5566406\n",
      "1.5849609 1.5771484\n",
      "1.5976562 1.5566406\n",
      "1.5810547 1.5537109\n",
      "1.5898438 1.5605469\n",
      "1.5830078 1.5488281\n",
      "1.5966797 1.5576172\n",
      "1.5927734 1.5546875\n",
      "1.6152344 1.5644531\n",
      "1.5791016 1.5449219\n",
      "1.5830078 1.546875\n",
      "1.6005859 1.5537109\n",
      "1.6152344 1.5458984\n",
      "1.5986328 1.5546875\n",
      "1.5957031 1.578125\n",
      "1.5957031 1.5576172\n",
      "1.6015625 1.5634766\n",
      "1.5869141 1.5419922\n",
      "1.5888672 1.5439453\n",
      "1.5947266 1.5615234\n",
      "1.5908203 1.5507812\n",
      "1.5839844 1.5488281\n",
      "1.6074219 1.5664062\n",
      "1.5878906 1.5439453\n",
      "1.5830078 1.5488281\n",
      "1.609375 1.5537109\n",
      "1.5996094 1.5585938\n",
      "1.5917969 1.5654297\n",
      "1.5800781 1.5527344\n",
      "1.6015625 1.5439453\n",
      "1.59375 1.5576172\n",
      "1.5771484 1.5751953\n",
      "1.5908203 1.5429688\n",
      "1.5820312 1.5595703\n",
      "1.6171875 1.5537109\n",
      "1.6298828 1.6103516\n",
      "1.6396484 1.5751953\n",
      "1.6435547 1.5683594\n",
      "1.640625 1.5644531\n",
      "0.57714844 1.3242188\n",
      "0.15283203 1.2490234\n",
      "0.10064697 1.0664062\n",
      "0.029144287 1.1630859\n",
      "0.29077148 1.2871094\n",
      "-0.105163574 1.3330078\n",
      "-0.62890625 1.5429688\n",
      "-0.4638672 1.5009766\n",
      "0.7626953 1.5966797\n",
      "2.0429688 1.9072266\n",
      "1.6318359 1.8486328\n",
      "0.7373047 1.6708984\n",
      "1.3398438 1.6669922\n",
      "1.0556641 1.3320312\n",
      "0.88134766 1.2988281\n",
      "0.53222656 1.2265625\n",
      "-0.070251465 1.2060547\n",
      "0.5024414 1.2412109\n",
      "0.29785156 1.1835938\n",
      "0.6074219 1.1621094\n",
      "1.171875 1.2246094\n",
      "1.0761719 1.2021484\n",
      "1.1191406 1.2226562\n",
      "1.1044922 1.2353516\n",
      "1.1220703 1.2353516\n",
      "1.1132812 1.2382812\n",
      "1.1386719 1.2421875\n",
      "1.0419922 1.2441406\n",
      "1.1054688 1.2480469\n",
      "1.1113281 1.2539062\n",
      "1.0957031 1.2480469\n",
      "1.0761719 1.25\n",
      "1.0615234 1.2558594\n",
      "1.0683594 1.2539062\n",
      "1.0898438 1.2539062\n",
      "1.1103516 1.2539062\n",
      "1.0800781 1.2587891\n"
     ]
    }
   ],
   "source": [
    "camera.observe(execute, names='value')"
   ]
  },
  {
   "cell_type": "markdown",
   "metadata": {},
   "source": [
    "Awesome! If your robot is plugged in it should now be generating new commands with each new camera frame. \n",
    "\n",
    "You can now place JetBot on  Lego or Track you have collected data on and see whether it can follow track.\n",
    "\n",
    "If you want to stop this behavior, you can unattach this callback by executing the code below."
   ]
  },
  {
   "cell_type": "code",
   "execution_count": 11,
   "metadata": {},
   "outputs": [
    {
     "name": "stdout",
     "output_type": "stream",
     "text": [
      "0.6645508 1.6572266\n"
     ]
    }
   ],
   "source": [
    "import time\n",
    "\n",
    "camera.unobserve(execute, names='value')\n",
    "\n",
    "time.sleep(0.1)  # add a small sleep to make sure frames have finished processing\n",
    "\n",
    "robot.stop()"
   ]
  },
  {
   "cell_type": "markdown",
   "metadata": {},
   "source": [
    "Again, let's close the camera conneciton properly so that we can use the camera in other notebooks."
   ]
  },
  {
   "cell_type": "code",
   "execution_count": 12,
   "metadata": {},
   "outputs": [],
   "source": [
    "camera.stop()"
   ]
  },
  {
   "cell_type": "markdown",
   "metadata": {},
   "source": [
    "### Conclusion\n",
    "That's it for this live demo! Hopefully you had some fun seeing your JetBot moving smoothly on track follwing the road!!!\n",
    "\n",
    "If your JetBot wasn't following road very well, try to spot where it fails. The beauty is that we can collect more data for these failure scenarios and the JetBot should get even better :)"
   ]
  }
 ],
 "metadata": {
  "kernelspec": {
   "display_name": "Python 3",
   "language": "python",
   "name": "python3"
  },
  "language_info": {
   "codemirror_mode": {
    "name": "ipython",
    "version": 3
   },
   "file_extension": ".py",
   "mimetype": "text/x-python",
   "name": "python",
   "nbconvert_exporter": "python",
   "pygments_lexer": "ipython3",
   "version": "3.6.9"
  }
 },
 "nbformat": 4,
 "nbformat_minor": 4
}
